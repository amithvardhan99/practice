{
 "cells": [
  {
   "cell_type": "code",
   "execution_count": 1,
   "metadata": {},
   "outputs": [],
   "source": [
    "from pyspark.sql import *\n"
   ]
  },
  {
   "cell_type": "code",
   "execution_count": 2,
   "metadata": {},
   "outputs": [
    {
     "name": "stdout",
     "output_type": "stream",
     "text": [
      "+---+----------+-------+--------------------+-----------------------+------------------------+-----+------+---------+\n",
      "|Sno|      Date|   Time|State/UnionTerritory|ConfirmedIndianNational|ConfirmedForeignNational|Cured|Deaths|Confirmed|\n",
      "+---+----------+-------+--------------------+-----------------------+------------------------+-----+------+---------+\n",
      "|  1|2020-01-30|6:00 PM|              Kerala|                      1|                       0|    0|     0|        1|\n",
      "|  2|2020-01-31|6:00 PM|              Kerala|                      1|                       0|    0|     0|        1|\n",
      "|  3|2020-02-01|6:00 PM|              Kerala|                      2|                       0|    0|     0|        2|\n",
      "|  4|2020-02-02|6:00 PM|              Kerala|                      3|                       0|    0|     0|        3|\n",
      "|  5|2020-02-03|6:00 PM|              Kerala|                      3|                       0|    0|     0|        3|\n",
      "+---+----------+-------+--------------------+-----------------------+------------------------+-----+------+---------+\n",
      "only showing top 5 rows\n",
      "\n"
     ]
    }
   ],
   "source": [
    "spark = SparkSession.builder.appName(\"Amith\").getOrCreate()\n",
    "df = spark.read.csv(\"covid_19_india.csv\",header=True,inferSchema=True)\n",
    "df.show(5)\n"
   ]
  },
  {
   "cell_type": "code",
   "execution_count": 19,
   "metadata": {},
   "outputs": [
    {
     "data": {
      "text/plain": [
       "<pyspark.sql.dataframe.DataFrameNaFunctions at 0x15365e21db0>"
      ]
     },
     "execution_count": 19,
     "metadata": {},
     "output_type": "execute_result"
    }
   ],
   "source": []
  },
  {
   "cell_type": "code",
   "execution_count": null,
   "metadata": {},
   "outputs": [],
   "source": []
  }
 ],
 "metadata": {
  "kernelspec": {
   "display_name": "Python 3",
   "language": "python",
   "name": "python3"
  },
  "language_info": {
   "codemirror_mode": {
    "name": "ipython",
    "version": 3
   },
   "file_extension": ".py",
   "mimetype": "text/x-python",
   "name": "python",
   "nbconvert_exporter": "python",
   "pygments_lexer": "ipython3",
   "version": "3.10.11"
  }
 },
 "nbformat": 4,
 "nbformat_minor": 2
}
